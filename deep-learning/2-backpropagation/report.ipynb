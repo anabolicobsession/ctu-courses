{
 "cells": [
  {
   "cell_type": "markdown",
   "id": "9d7f2c1c",
   "metadata": {},
   "source": [
    "# Tensor basics"
   ]
  },
  {
   "cell_type": "code",
   "execution_count": 63,
   "id": "8a8a4b6c",
   "metadata": {},
   "outputs": [
    {
     "name": "stdout",
     "output_type": "stream",
     "text": [
      "The autoreload extension is already loaded. To reload it, use:\n",
      "  %reload_ext autoreload\n"
     ]
    }
   ],
   "source": [
    "%load_ext autoreload\n",
    "%autoreload 2"
   ]
  },
  {
   "cell_type": "code",
   "execution_count": 64,
   "id": "9c62ca73",
   "metadata": {},
   "outputs": [],
   "source": [
    "import torch\n",
    "import numpy as np\n",
    " \n",
    "w = torch.tensor(1, dtype=torch.float32)\n",
    "x = torch.tensor(2.0, dtype=torch.float32)\n",
    "t = torch.tensor(np.float32(3))\n",
    "b = torch.tensor(4, dtype=torch.float32)"
   ]
  },
  {
   "cell_type": "code",
   "execution_count": 65,
   "id": "c2c3e885",
   "metadata": {},
   "outputs": [],
   "source": [
    "w.requires_grad = True"
   ]
  },
  {
   "cell_type": "code",
   "execution_count": 66,
   "id": "c7e6b55e",
   "metadata": {},
   "outputs": [],
   "source": [
    "a = x + b\n",
    "y = torch.maximum(a * w, torch.zeros(1))\n",
    "l = (y - t) ** 2 + w ** 2"
   ]
  },
  {
   "cell_type": "code",
   "execution_count": 67,
   "id": "112e90da",
   "metadata": {},
   "outputs": [
    {
     "data": {
      "text/plain": [
       "<AddBackward0 at 0x7f1ced180d90>"
      ]
     },
     "execution_count": 67,
     "metadata": {},
     "output_type": "execute_result"
    }
   ],
   "source": [
    "l.grad_fn"
   ]
  },
  {
   "cell_type": "code",
   "execution_count": 68,
   "id": "a7d5a124",
   "metadata": {},
   "outputs": [
    {
     "data": {
      "text/plain": [
       "<MaximumBackward0 at 0x7f1ced17ba10>"
      ]
     },
     "execution_count": 68,
     "metadata": {},
     "output_type": "execute_result"
    }
   ],
   "source": [
    "y.grad_fn"
   ]
  },
  {
   "cell_type": "code",
   "execution_count": 69,
   "id": "fcc58130",
   "metadata": {},
   "outputs": [],
   "source": [
    "a.grad_fn"
   ]
  },
  {
   "cell_type": "code",
   "execution_count": 70,
   "id": "7cd125f5",
   "metadata": {},
   "outputs": [
    {
     "data": {
      "text/plain": [
       "(tensor([6.]),)"
      ]
     },
     "execution_count": 70,
     "metadata": {},
     "output_type": "execute_result"
    }
   ],
   "source": [
    "from torch.autograd import grad\n",
    "\n",
    "l.retain_graph = True\n",
    "grad(l, y, retain_graph=True)"
   ]
  },
  {
   "cell_type": "code",
   "execution_count": 71,
   "id": "b1359ec9",
   "metadata": {},
   "outputs": [],
   "source": [
    "l.backward()"
   ]
  },
  {
   "cell_type": "code",
   "execution_count": 72,
   "id": "14ffbc97",
   "metadata": {},
   "outputs": [
    {
     "data": {
      "text/plain": [
       "tensor(38.)"
      ]
     },
     "execution_count": 72,
     "metadata": {},
     "output_type": "execute_result"
    }
   ],
   "source": [
    "w.grad"
   ]
  },
  {
   "cell_type": "code",
   "execution_count": 73,
   "id": "6a1d3fd2",
   "metadata": {},
   "outputs": [],
   "source": [
    "with torch.no_grad():\n",
    "    w = w - 0.1 * w.grad"
   ]
  },
  {
   "cell_type": "markdown",
   "id": "b9f2eec7",
   "metadata": {},
   "source": [
    "# Gradient and Network Training"
   ]
  },
  {
   "cell_type": "markdown",
   "id": "bbc297ff",
   "metadata": {},
   "source": [
    "## Step 1"
   ]
  },
  {
   "cell_type": "code",
   "execution_count": 74,
   "id": "48239000",
   "metadata": {},
   "outputs": [],
   "source": [
    "from template import G2Model\n",
    "\n",
    "G = G2Model()\n",
    "train_data = G.generate_sample(100)\n",
    "test_data = G.generate_sample(50)\n",
    "x, y = train_data"
   ]
  },
  {
   "cell_type": "code",
   "execution_count": 75,
   "id": "0e0cfa90",
   "metadata": {},
   "outputs": [],
   "source": [
    "from model import FFModel\n",
    "\n",
    "model = FFModel(500, 'cpu', torch.float32)\n",
    "loss = model.mean_loss(x, y)\n",
    "loss.backward()"
   ]
  },
  {
   "cell_type": "markdown",
   "id": "677cfdad",
   "metadata": {},
   "source": [
    "## Step 2"
   ]
  },
  {
   "cell_type": "code",
   "execution_count": 76,
   "id": "f7677704",
   "metadata": {},
   "outputs": [
    {
     "name": "stdout",
     "output_type": "stream",
     "text": [
      "# Grad error in w1: 0.0002736\n",
      "# Grad error in b1: 0.0001608\n",
      "# Grad error in w2: 0.0002191\n",
      "# Grad error in b2: 6.616e-06\n"
     ]
    }
   ],
   "source": [
    "for p in ['w1', 'b1', 'w2', 'b2']:\n",
    "    model.check_gradient(x, y, p, eps=1e-4)"
   ]
  },
  {
   "cell_type": "markdown",
   "id": "54696000",
   "metadata": {},
   "source": [
    "## Step 3"
   ]
  },
  {
   "cell_type": "markdown",
   "id": "84a022a1",
   "metadata": {},
   "source": [
    "Remark: *Boundary plots are the files model_5.png, model_100.png and model_500.png*"
   ]
  },
  {
   "cell_type": "markdown",
   "id": "01e13d9e",
   "metadata": {},
   "source": [
    "Computing the optimal test size from the Hoeffding inequality:\n",
    "\n",
    "2 * e^(-2 * m * eps^2) = 0.01\n",
    "\n",
    "-2 * m * eps^2 = ln(0.005)\n",
    "\n",
    "m = - ln(0.005) / (2 * eps^2)\n",
    "\n",
    "m = 11505.1499783 ~= 11506 (samples)"
   ]
  },
  {
   "cell_type": "markdown",
   "id": "5a9eef08",
   "metadata": {},
   "source": [
    "With the test size above I got the next results:\n",
    "\n",
    "test error = 1 - 0.967 = 0.033\n",
    "\n",
    "generalization gap = 0.012\n",
    "\n",
    "So even with 1% there's still realistic chance generalization gap to be higher\n",
    "\n",
    "All the source code can be found in **main.py**/**model.py**"
   ]
  },
  {
   "cell_type": "markdown",
   "id": "bc593cb2",
   "metadata": {},
   "source": [
    "# Test error"
   ]
  },
  {
   "cell_type": "code",
   "execution_count": 77,
   "id": "f83dcf20",
   "metadata": {},
   "outputs": [],
   "source": [
    "m = FFModel(500, 'cpu', torch.float32)\n",
    "train_data = G.generate_sample(200)"
   ]
  },
  {
   "cell_type": "code",
   "execution_count": 78,
   "id": "ddaaf633",
   "metadata": {},
   "outputs": [
    {
     "data": {
      "text/plain": [
       "0.98"
      ]
     },
     "execution_count": 78,
     "metadata": {},
     "output_type": "execute_result"
    }
   ],
   "source": [
    "def train(model, data, lr=1e-1, epochs=100):\n",
    "    for _ in range(epochs):\n",
    "        l = model.mean_loss(*data)\n",
    "        model.zero_grad()\n",
    "        l.backward()\n",
    "        for p in model.parameters:\n",
    "            p.data -= lr * p.grad.data\n",
    "            \n",
    "train(m, train_data)\n",
    "m.mean_accuracy_working_function(*train_data)"
   ]
  },
  {
   "cell_type": "markdown",
   "id": "9aa47d40",
   "metadata": {},
   "source": [
    "**Everytime** I run this loop with 10000 trials, my PC is crashing, so I better decrease the number of trials to 1000"
   ]
  },
  {
   "cell_type": "code",
   "execution_count": 79,
   "id": "7802d634",
   "metadata": {},
   "outputs": [],
   "source": [
    "errors = []\n",
    "\n",
    "for _ in range(1000):\n",
    "    errors.append(1 - m.mean_accuracy_working_function(*G.generate_sample(1000)))"
   ]
  },
  {
   "cell_type": "code",
   "execution_count": 80,
   "id": "f11ba83e",
   "metadata": {},
   "outputs": [
    {
     "data": {
      "text/plain": [
       "Text(0.5, 0, 'Error (%)')"
      ]
     },
     "execution_count": 80,
     "metadata": {},
     "output_type": "execute_result"
    },
    {
     "data": {
      "image/png": "[encoded data removed]",
      "text/plain": [
       "<Figure size 640x480 with 1 Axes>"
      ]
     },
     "metadata": {},
     "output_type": "display_data"
    }
   ],
   "source": [
    "%matplotlib inline\n",
    "import matplotlib.pyplot as plt\n",
    "\n",
    "plt.hist(errors, bins=30)\n",
    "plt.title('Test error distribution')\n",
    "plt.xlabel('Error (%)')"
   ]
  },
  {
   "cell_type": "markdown",
   "id": "7c00e8b3",
   "metadata": {},
   "source": [
    "## Hoeffding"
   ]
  },
  {
   "cell_type": "markdown",
   "id": "c0a6da44",
   "metadata": {},
   "source": [
    "2e ^ (-2m eps^2) = 1 - 0.95\n",
    "\n",
    "e ^ (-2m eps^2) = 0.025\n",
    "\n",
    "-2m eps^2 = -3.68887945411\n",
    "\n",
    "m eps^2 = 1.84443972705\n",
    "\n",
    "eps^2 = 0.00184443972\n",
    "\n",
    "eps = 0.04294694075 ~= 0.043"
   ]
  },
  {
   "cell_type": "code",
   "execution_count": 81,
   "id": "57aae94a",
   "metadata": {},
   "outputs": [
    {
     "name": "stdout",
     "output_type": "stream",
     "text": [
      "Test error: 0.030 +- 0.043\n"
     ]
    }
   ],
   "source": [
    "test_data = G.generate_sample(1000)\n",
    "eps = 0.043\n",
    "err = 1 - m.mean_accuracy_working_function(*test_data)\n",
    "print(f'Test error: {err:.3f} +- {eps}')"
   ]
  },
  {
   "cell_type": "markdown",
   "id": "f5bfefa2",
   "metadata": {},
   "source": [
    "## Chebyshev"
   ]
  },
  {
   "cell_type": "markdown",
   "id": "f23f99e4",
   "metadata": {},
   "source": [
    "V / (m eps^2) = 0.05\n",
    "\n",
    "1 / (m eps^2) = 0.05 / V\n",
    "\n",
    "m eps^2 = V / 0.05\n",
    "\n",
    "eps^2 = V / (0.05m)\n",
    "\n",
    "eps = sqrt(V / (0.05m))"
   ]
  },
  {
   "cell_type": "code",
   "execution_count": 91,
   "id": "7180d5fc",
   "metadata": {},
   "outputs": [
    {
     "name": "stdout",
     "output_type": "stream",
     "text": [
      "Test error: 0.030 +- 0.06511144292672372\n"
     ]
    }
   ],
   "source": [
    "x, y = test_data\n",
    "y_hat = model.classify(x).detach().numpy()\n",
    "var = np.var(y != y_hat)\n",
    "eps = np.sqrt(var / (0.05 * 1000))\n",
    "eps\n",
    "print(f'Test error: {err:.3f} +- {eps}')"
   ]
  },
  {
   "cell_type": "markdown",
   "id": "f89e69eb",
   "metadata": {},
   "source": [
    "Obviously I made a mistake, the final test error doesn't make sense, but I can't see it"
   ]
  }
 ],
 "metadata": {
  "kernelspec": {
   "display_name": "Python [conda env:dle]",
   "language": "python",
   "name": "conda-env-dle-py"
  },
  "language_info": {
   "codemirror_mode": {
    "name": "ipython",
    "version": 3
   },
   "file_extension": ".py",
   "mimetype": "text/x-python",
   "name": "python",
   "nbconvert_exporter": "python",
   "pygments_lexer": "ipython3",
   "version": "3.7.16"
  }
 },
 "nbformat": 4,
 "nbformat_minor": 5
}
